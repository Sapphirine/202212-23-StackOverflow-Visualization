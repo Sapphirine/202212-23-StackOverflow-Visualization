{
  "cells": [
    {
      "cell_type": "code",
      "execution_count": 1,
      "metadata": {
        "id": "VziHf2BpYW8L"
      },
      "outputs": [],
      "source": [
        "import pandas as pd\n",
        "from bs4 import BeautifulSoup\n",
        "from sklearn.model_selection import train_test_split\n",
        "from tensorflow.keras import *\n",
        "import matplotlib.pyplot as plt\n",
        "from keras.utils import np_utils\n",
        "from sklearn.preprocessing import LabelEncoder\n",
        "from plotly import graph_objs as go\n",
        "from sklearn.metrics import classification_report, plot_confusion_matrix\n",
        "import random\n",
        "import numpy as np\n",
        "import seaborn as sns\n",
        "import sys\n",
        "import os\n",
        "import matplotlib.pyplot as plt\n",
        "from plotly import graph_objs as go"
      ]
    },
    {
      "cell_type": "code",
      "execution_count": 2,
      "metadata": {
        "colab": {
          "base_uri": "https://localhost:8080/"
        },
        "id": "NtqC0mCNZV00",
        "outputId": "325b3d46-5fa7-4b9c-c87d-7670894db236"
      },
      "outputs": [
        {
          "output_type": "stream",
          "name": "stdout",
          "text": [
            "Mounted at /gdrive\n"
          ]
        }
      ],
      "source": [
        "from google.colab import drive\n",
        "drive.mount('/gdrive')"
      ]
    },
    {
      "cell_type": "code",
      "execution_count": 3,
      "metadata": {
        "id": "A0cY85EnaV4A"
      },
      "outputs": [],
      "source": [
        "path = \"/gdrive/My Drive/Big Data Analytics 6893/Kaggle 60K Question Quality Dataset\"\n",
        "\n",
        "train = pd.read_csv(os.path.join(path, 'train.csv'))\n",
        "val = pd.read_csv(os.path.join(path, 'valid.csv'))\n",
        "\n",
        "data = pd.concat((train, val))"
      ]
    },
    {
      "cell_type": "code",
      "execution_count": 4,
      "metadata": {
        "colab": {
          "base_uri": "https://localhost:8080/"
        },
        "id": "FZlhdbV5bRPH",
        "outputId": "5ac6f8c9-41e7-4ecd-cbbe-d199cce1ac17"
      },
      "outputs": [
        {
          "output_type": "stream",
          "name": "stdout",
          "text": [
            "The size of train: 45000 samples\n",
            "The size of val: 15000 samples\n",
            "The combined size: 60000 samples\n"
          ]
        }
      ],
      "source": [
        "print(f'The size of train: {len(train)} samples')\n",
        "print(f'The size of val: {len(val)} samples')\n",
        "print(f'The combined size: {len(data)} samples')"
      ]
    },
    {
      "cell_type": "code",
      "execution_count": 6,
      "metadata": {
        "id": "a7Funo0tdhyy"
      },
      "outputs": [],
      "source": [
        "data = data.reset_index() # fix the indexing after the concat "
      ]
    },
    {
      "cell_type": "code",
      "execution_count": 7,
      "metadata": {
        "colab": {
          "base_uri": "https://localhost:8080/",
          "height": 337
        },
        "id": "Nv63ZhRAbeiW",
        "outputId": "59f4cf89-7294-4806-e8a1-1dd28076c37d"
      },
      "outputs": [
        {
          "output_type": "execute_result",
          "data": {
            "text/plain": [
              "   index        Id                                              Title  \\\n",
              "0      0  34552656             Java: Repeat Task Every Random Seconds   \n",
              "1      1  34553034                  Why are Java Optionals immutable?   \n",
              "2      2  34553174  Text Overlay Image with Darkened Opacity React...   \n",
              "3      3  34553318         Why ternary operator in swift is so picky?   \n",
              "4      4  34553755                 hide/show fab with scale animation   \n",
              "\n",
              "                                                Body  \\\n",
              "0  <p>I'm already familiar with repeating tasks e...   \n",
              "1  <p>I'd like to understand why Java 8 Optionals...   \n",
              "2  <p>I am attempting to overlay a title over an ...   \n",
              "3  <p>The question is very simple, but I just cou...   \n",
              "4  <p>I'm using custom floatingactionmenu. I need...   \n",
              "\n",
              "                                                Tags         CreationDate  \\\n",
              "0                                     <java><repeat>  2016-01-01 00:21:59   \n",
              "1                                   <java><optional>  2016-01-01 02:03:20   \n",
              "2  <javascript><image><overlay><react-native><opa...  2016-01-01 02:48:24   \n",
              "3  <swift><operators><whitespace><ternary-operato...  2016-01-01 03:30:17   \n",
              "4  <android><material-design><floating-action-but...  2016-01-01 05:21:48   \n",
              "\n",
              "          Y  \n",
              "0  LQ_CLOSE  \n",
              "1        HQ  \n",
              "2        HQ  \n",
              "3        HQ  \n",
              "4        HQ  "
            ],
            "text/html": [
              "\n",
              "  <div id=\"df-6afe3388-5916-4877-822e-1e989e1cf414\">\n",
              "    <div class=\"colab-df-container\">\n",
              "      <div>\n",
              "<style scoped>\n",
              "    .dataframe tbody tr th:only-of-type {\n",
              "        vertical-align: middle;\n",
              "    }\n",
              "\n",
              "    .dataframe tbody tr th {\n",
              "        vertical-align: top;\n",
              "    }\n",
              "\n",
              "    .dataframe thead th {\n",
              "        text-align: right;\n",
              "    }\n",
              "</style>\n",
              "<table border=\"1\" class=\"dataframe\">\n",
              "  <thead>\n",
              "    <tr style=\"text-align: right;\">\n",
              "      <th></th>\n",
              "      <th>index</th>\n",
              "      <th>Id</th>\n",
              "      <th>Title</th>\n",
              "      <th>Body</th>\n",
              "      <th>Tags</th>\n",
              "      <th>CreationDate</th>\n",
              "      <th>Y</th>\n",
              "    </tr>\n",
              "  </thead>\n",
              "  <tbody>\n",
              "    <tr>\n",
              "      <th>0</th>\n",
              "      <td>0</td>\n",
              "      <td>34552656</td>\n",
              "      <td>Java: Repeat Task Every Random Seconds</td>\n",
              "      <td>&lt;p&gt;I'm already familiar with repeating tasks e...</td>\n",
              "      <td>&lt;java&gt;&lt;repeat&gt;</td>\n",
              "      <td>2016-01-01 00:21:59</td>\n",
              "      <td>LQ_CLOSE</td>\n",
              "    </tr>\n",
              "    <tr>\n",
              "      <th>1</th>\n",
              "      <td>1</td>\n",
              "      <td>34553034</td>\n",
              "      <td>Why are Java Optionals immutable?</td>\n",
              "      <td>&lt;p&gt;I'd like to understand why Java 8 Optionals...</td>\n",
              "      <td>&lt;java&gt;&lt;optional&gt;</td>\n",
              "      <td>2016-01-01 02:03:20</td>\n",
              "      <td>HQ</td>\n",
              "    </tr>\n",
              "    <tr>\n",
              "      <th>2</th>\n",
              "      <td>2</td>\n",
              "      <td>34553174</td>\n",
              "      <td>Text Overlay Image with Darkened Opacity React...</td>\n",
              "      <td>&lt;p&gt;I am attempting to overlay a title over an ...</td>\n",
              "      <td>&lt;javascript&gt;&lt;image&gt;&lt;overlay&gt;&lt;react-native&gt;&lt;opa...</td>\n",
              "      <td>2016-01-01 02:48:24</td>\n",
              "      <td>HQ</td>\n",
              "    </tr>\n",
              "    <tr>\n",
              "      <th>3</th>\n",
              "      <td>3</td>\n",
              "      <td>34553318</td>\n",
              "      <td>Why ternary operator in swift is so picky?</td>\n",
              "      <td>&lt;p&gt;The question is very simple, but I just cou...</td>\n",
              "      <td>&lt;swift&gt;&lt;operators&gt;&lt;whitespace&gt;&lt;ternary-operato...</td>\n",
              "      <td>2016-01-01 03:30:17</td>\n",
              "      <td>HQ</td>\n",
              "    </tr>\n",
              "    <tr>\n",
              "      <th>4</th>\n",
              "      <td>4</td>\n",
              "      <td>34553755</td>\n",
              "      <td>hide/show fab with scale animation</td>\n",
              "      <td>&lt;p&gt;I'm using custom floatingactionmenu. I need...</td>\n",
              "      <td>&lt;android&gt;&lt;material-design&gt;&lt;floating-action-but...</td>\n",
              "      <td>2016-01-01 05:21:48</td>\n",
              "      <td>HQ</td>\n",
              "    </tr>\n",
              "  </tbody>\n",
              "</table>\n",
              "</div>\n",
              "      <button class=\"colab-df-convert\" onclick=\"convertToInteractive('df-6afe3388-5916-4877-822e-1e989e1cf414')\"\n",
              "              title=\"Convert this dataframe to an interactive table.\"\n",
              "              style=\"display:none;\">\n",
              "        \n",
              "  <svg xmlns=\"http://www.w3.org/2000/svg\" height=\"24px\"viewBox=\"0 0 24 24\"\n",
              "       width=\"24px\">\n",
              "    <path d=\"M0 0h24v24H0V0z\" fill=\"none\"/>\n",
              "    <path d=\"M18.56 5.44l.94 2.06.94-2.06 2.06-.94-2.06-.94-.94-2.06-.94 2.06-2.06.94zm-11 1L8.5 8.5l.94-2.06 2.06-.94-2.06-.94L8.5 2.5l-.94 2.06-2.06.94zm10 10l.94 2.06.94-2.06 2.06-.94-2.06-.94-.94-2.06-.94 2.06-2.06.94z\"/><path d=\"M17.41 7.96l-1.37-1.37c-.4-.4-.92-.59-1.43-.59-.52 0-1.04.2-1.43.59L10.3 9.45l-7.72 7.72c-.78.78-.78 2.05 0 2.83L4 21.41c.39.39.9.59 1.41.59.51 0 1.02-.2 1.41-.59l7.78-7.78 2.81-2.81c.8-.78.8-2.07 0-2.86zM5.41 20L4 18.59l7.72-7.72 1.47 1.35L5.41 20z\"/>\n",
              "  </svg>\n",
              "      </button>\n",
              "      \n",
              "  <style>\n",
              "    .colab-df-container {\n",
              "      display:flex;\n",
              "      flex-wrap:wrap;\n",
              "      gap: 12px;\n",
              "    }\n",
              "\n",
              "    .colab-df-convert {\n",
              "      background-color: #E8F0FE;\n",
              "      border: none;\n",
              "      border-radius: 50%;\n",
              "      cursor: pointer;\n",
              "      display: none;\n",
              "      fill: #1967D2;\n",
              "      height: 32px;\n",
              "      padding: 0 0 0 0;\n",
              "      width: 32px;\n",
              "    }\n",
              "\n",
              "    .colab-df-convert:hover {\n",
              "      background-color: #E2EBFA;\n",
              "      box-shadow: 0px 1px 2px rgba(60, 64, 67, 0.3), 0px 1px 3px 1px rgba(60, 64, 67, 0.15);\n",
              "      fill: #174EA6;\n",
              "    }\n",
              "\n",
              "    [theme=dark] .colab-df-convert {\n",
              "      background-color: #3B4455;\n",
              "      fill: #D2E3FC;\n",
              "    }\n",
              "\n",
              "    [theme=dark] .colab-df-convert:hover {\n",
              "      background-color: #434B5C;\n",
              "      box-shadow: 0px 1px 3px 1px rgba(0, 0, 0, 0.15);\n",
              "      filter: drop-shadow(0px 1px 2px rgba(0, 0, 0, 0.3));\n",
              "      fill: #FFFFFF;\n",
              "    }\n",
              "  </style>\n",
              "\n",
              "      <script>\n",
              "        const buttonEl =\n",
              "          document.querySelector('#df-6afe3388-5916-4877-822e-1e989e1cf414 button.colab-df-convert');\n",
              "        buttonEl.style.display =\n",
              "          google.colab.kernel.accessAllowed ? 'block' : 'none';\n",
              "\n",
              "        async function convertToInteractive(key) {\n",
              "          const element = document.querySelector('#df-6afe3388-5916-4877-822e-1e989e1cf414');\n",
              "          const dataTable =\n",
              "            await google.colab.kernel.invokeFunction('convertToInteractive',\n",
              "                                                     [key], {});\n",
              "          if (!dataTable) return;\n",
              "\n",
              "          const docLinkHtml = 'Like what you see? Visit the ' +\n",
              "            '<a target=\"_blank\" href=https://colab.research.google.com/notebooks/data_table.ipynb>data table notebook</a>'\n",
              "            + ' to learn more about interactive tables.';\n",
              "          element.innerHTML = '';\n",
              "          dataTable['output_type'] = 'display_data';\n",
              "          await google.colab.output.renderOutput(dataTable, element);\n",
              "          const docLink = document.createElement('div');\n",
              "          docLink.innerHTML = docLinkHtml;\n",
              "          element.appendChild(docLink);\n",
              "        }\n",
              "      </script>\n",
              "    </div>\n",
              "  </div>\n",
              "  "
            ]
          },
          "metadata": {},
          "execution_count": 7
        }
      ],
      "source": [
        "data.head()"
      ]
    },
    {
      "cell_type": "code",
      "execution_count": 22,
      "metadata": {
        "id": "Z3mhgkOkbsum"
      },
      "outputs": [],
      "source": [
        "data['body_scraped']=data['Body'].apply(lambda x: BeautifulSoup(x, 'html.parser').text)"
      ]
    },
    {
      "cell_type": "code",
      "execution_count": 10,
      "metadata": {
        "colab": {
          "base_uri": "https://localhost:8080/",
          "height": 372
        },
        "id": "Pf7STw4tbwLD",
        "outputId": "41a75616-384a-4384-efb6-d99f59aa2a43"
      },
      "outputs": [
        {
          "output_type": "execute_result",
          "data": {
            "text/plain": [
              "   index        Id                                              Title  \\\n",
              "0      0  34552656             Java: Repeat Task Every Random Seconds   \n",
              "1      1  34553034                  Why are Java Optionals immutable?   \n",
              "2      2  34553174  Text Overlay Image with Darkened Opacity React...   \n",
              "3      3  34553318         Why ternary operator in swift is so picky?   \n",
              "4      4  34553755                 hide/show fab with scale animation   \n",
              "\n",
              "                                                Body  \\\n",
              "0  <p>I'm already familiar with repeating tasks e...   \n",
              "1  <p>I'd like to understand why Java 8 Optionals...   \n",
              "2  <p>I am attempting to overlay a title over an ...   \n",
              "3  <p>The question is very simple, but I just cou...   \n",
              "4  <p>I'm using custom floatingactionmenu. I need...   \n",
              "\n",
              "                                                Tags         CreationDate  \\\n",
              "0                                     <java><repeat>  2016-01-01 00:21:59   \n",
              "1                                   <java><optional>  2016-01-01 02:03:20   \n",
              "2  <javascript><image><overlay><react-native><opa...  2016-01-01 02:48:24   \n",
              "3  <swift><operators><whitespace><ternary-operato...  2016-01-01 03:30:17   \n",
              "4  <android><material-design><floating-action-but...  2016-01-01 05:21:48   \n",
              "\n",
              "          Y                                       body_scraped  \n",
              "0  LQ_CLOSE  I'm already familiar with repeating tasks ever...  \n",
              "1        HQ  I'd like to understand why Java 8 Optionals we...  \n",
              "2        HQ  I am attempting to overlay a title over an ima...  \n",
              "3        HQ  The question is very simple, but I just could ...  \n",
              "4        HQ  I'm using custom floatingactionmenu. I need to...  "
            ],
            "text/html": [
              "\n",
              "  <div id=\"df-901fbd67-152e-4910-9667-2c88f1c7465f\">\n",
              "    <div class=\"colab-df-container\">\n",
              "      <div>\n",
              "<style scoped>\n",
              "    .dataframe tbody tr th:only-of-type {\n",
              "        vertical-align: middle;\n",
              "    }\n",
              "\n",
              "    .dataframe tbody tr th {\n",
              "        vertical-align: top;\n",
              "    }\n",
              "\n",
              "    .dataframe thead th {\n",
              "        text-align: right;\n",
              "    }\n",
              "</style>\n",
              "<table border=\"1\" class=\"dataframe\">\n",
              "  <thead>\n",
              "    <tr style=\"text-align: right;\">\n",
              "      <th></th>\n",
              "      <th>index</th>\n",
              "      <th>Id</th>\n",
              "      <th>Title</th>\n",
              "      <th>Body</th>\n",
              "      <th>Tags</th>\n",
              "      <th>CreationDate</th>\n",
              "      <th>Y</th>\n",
              "      <th>body_scraped</th>\n",
              "    </tr>\n",
              "  </thead>\n",
              "  <tbody>\n",
              "    <tr>\n",
              "      <th>0</th>\n",
              "      <td>0</td>\n",
              "      <td>34552656</td>\n",
              "      <td>Java: Repeat Task Every Random Seconds</td>\n",
              "      <td>&lt;p&gt;I'm already familiar with repeating tasks e...</td>\n",
              "      <td>&lt;java&gt;&lt;repeat&gt;</td>\n",
              "      <td>2016-01-01 00:21:59</td>\n",
              "      <td>LQ_CLOSE</td>\n",
              "      <td>I'm already familiar with repeating tasks ever...</td>\n",
              "    </tr>\n",
              "    <tr>\n",
              "      <th>1</th>\n",
              "      <td>1</td>\n",
              "      <td>34553034</td>\n",
              "      <td>Why are Java Optionals immutable?</td>\n",
              "      <td>&lt;p&gt;I'd like to understand why Java 8 Optionals...</td>\n",
              "      <td>&lt;java&gt;&lt;optional&gt;</td>\n",
              "      <td>2016-01-01 02:03:20</td>\n",
              "      <td>HQ</td>\n",
              "      <td>I'd like to understand why Java 8 Optionals we...</td>\n",
              "    </tr>\n",
              "    <tr>\n",
              "      <th>2</th>\n",
              "      <td>2</td>\n",
              "      <td>34553174</td>\n",
              "      <td>Text Overlay Image with Darkened Opacity React...</td>\n",
              "      <td>&lt;p&gt;I am attempting to overlay a title over an ...</td>\n",
              "      <td>&lt;javascript&gt;&lt;image&gt;&lt;overlay&gt;&lt;react-native&gt;&lt;opa...</td>\n",
              "      <td>2016-01-01 02:48:24</td>\n",
              "      <td>HQ</td>\n",
              "      <td>I am attempting to overlay a title over an ima...</td>\n",
              "    </tr>\n",
              "    <tr>\n",
              "      <th>3</th>\n",
              "      <td>3</td>\n",
              "      <td>34553318</td>\n",
              "      <td>Why ternary operator in swift is so picky?</td>\n",
              "      <td>&lt;p&gt;The question is very simple, but I just cou...</td>\n",
              "      <td>&lt;swift&gt;&lt;operators&gt;&lt;whitespace&gt;&lt;ternary-operato...</td>\n",
              "      <td>2016-01-01 03:30:17</td>\n",
              "      <td>HQ</td>\n",
              "      <td>The question is very simple, but I just could ...</td>\n",
              "    </tr>\n",
              "    <tr>\n",
              "      <th>4</th>\n",
              "      <td>4</td>\n",
              "      <td>34553755</td>\n",
              "      <td>hide/show fab with scale animation</td>\n",
              "      <td>&lt;p&gt;I'm using custom floatingactionmenu. I need...</td>\n",
              "      <td>&lt;android&gt;&lt;material-design&gt;&lt;floating-action-but...</td>\n",
              "      <td>2016-01-01 05:21:48</td>\n",
              "      <td>HQ</td>\n",
              "      <td>I'm using custom floatingactionmenu. I need to...</td>\n",
              "    </tr>\n",
              "  </tbody>\n",
              "</table>\n",
              "</div>\n",
              "      <button class=\"colab-df-convert\" onclick=\"convertToInteractive('df-901fbd67-152e-4910-9667-2c88f1c7465f')\"\n",
              "              title=\"Convert this dataframe to an interactive table.\"\n",
              "              style=\"display:none;\">\n",
              "        \n",
              "  <svg xmlns=\"http://www.w3.org/2000/svg\" height=\"24px\"viewBox=\"0 0 24 24\"\n",
              "       width=\"24px\">\n",
              "    <path d=\"M0 0h24v24H0V0z\" fill=\"none\"/>\n",
              "    <path d=\"M18.56 5.44l.94 2.06.94-2.06 2.06-.94-2.06-.94-.94-2.06-.94 2.06-2.06.94zm-11 1L8.5 8.5l.94-2.06 2.06-.94-2.06-.94L8.5 2.5l-.94 2.06-2.06.94zm10 10l.94 2.06.94-2.06 2.06-.94-2.06-.94-.94-2.06-.94 2.06-2.06.94z\"/><path d=\"M17.41 7.96l-1.37-1.37c-.4-.4-.92-.59-1.43-.59-.52 0-1.04.2-1.43.59L10.3 9.45l-7.72 7.72c-.78.78-.78 2.05 0 2.83L4 21.41c.39.39.9.59 1.41.59.51 0 1.02-.2 1.41-.59l7.78-7.78 2.81-2.81c.8-.78.8-2.07 0-2.86zM5.41 20L4 18.59l7.72-7.72 1.47 1.35L5.41 20z\"/>\n",
              "  </svg>\n",
              "      </button>\n",
              "      \n",
              "  <style>\n",
              "    .colab-df-container {\n",
              "      display:flex;\n",
              "      flex-wrap:wrap;\n",
              "      gap: 12px;\n",
              "    }\n",
              "\n",
              "    .colab-df-convert {\n",
              "      background-color: #E8F0FE;\n",
              "      border: none;\n",
              "      border-radius: 50%;\n",
              "      cursor: pointer;\n",
              "      display: none;\n",
              "      fill: #1967D2;\n",
              "      height: 32px;\n",
              "      padding: 0 0 0 0;\n",
              "      width: 32px;\n",
              "    }\n",
              "\n",
              "    .colab-df-convert:hover {\n",
              "      background-color: #E2EBFA;\n",
              "      box-shadow: 0px 1px 2px rgba(60, 64, 67, 0.3), 0px 1px 3px 1px rgba(60, 64, 67, 0.15);\n",
              "      fill: #174EA6;\n",
              "    }\n",
              "\n",
              "    [theme=dark] .colab-df-convert {\n",
              "      background-color: #3B4455;\n",
              "      fill: #D2E3FC;\n",
              "    }\n",
              "\n",
              "    [theme=dark] .colab-df-convert:hover {\n",
              "      background-color: #434B5C;\n",
              "      box-shadow: 0px 1px 3px 1px rgba(0, 0, 0, 0.15);\n",
              "      filter: drop-shadow(0px 1px 2px rgba(0, 0, 0, 0.3));\n",
              "      fill: #FFFFFF;\n",
              "    }\n",
              "  </style>\n",
              "\n",
              "      <script>\n",
              "        const buttonEl =\n",
              "          document.querySelector('#df-901fbd67-152e-4910-9667-2c88f1c7465f button.colab-df-convert');\n",
              "        buttonEl.style.display =\n",
              "          google.colab.kernel.accessAllowed ? 'block' : 'none';\n",
              "\n",
              "        async function convertToInteractive(key) {\n",
              "          const element = document.querySelector('#df-901fbd67-152e-4910-9667-2c88f1c7465f');\n",
              "          const dataTable =\n",
              "            await google.colab.kernel.invokeFunction('convertToInteractive',\n",
              "                                                     [key], {});\n",
              "          if (!dataTable) return;\n",
              "\n",
              "          const docLinkHtml = 'Like what you see? Visit the ' +\n",
              "            '<a target=\"_blank\" href=https://colab.research.google.com/notebooks/data_table.ipynb>data table notebook</a>'\n",
              "            + ' to learn more about interactive tables.';\n",
              "          element.innerHTML = '';\n",
              "          dataTable['output_type'] = 'display_data';\n",
              "          await google.colab.output.renderOutput(dataTable, element);\n",
              "          const docLink = document.createElement('div');\n",
              "          docLink.innerHTML = docLinkHtml;\n",
              "          element.appendChild(docLink);\n",
              "        }\n",
              "      </script>\n",
              "    </div>\n",
              "  </div>\n",
              "  "
            ]
          },
          "metadata": {},
          "execution_count": 10
        }
      ],
      "source": [
        "data.head()"
      ]
    },
    {
      "cell_type": "code",
      "execution_count": 11,
      "metadata": {
        "colab": {
          "base_uri": "https://localhost:8080/",
          "height": 70
        },
        "id": "6lqpOIGdcHHP",
        "outputId": "96c98712-a716-43fa-85a5-7e31082bae30"
      },
      "outputs": [
        {
          "output_type": "execute_result",
          "data": {
            "text/plain": [
              "'<p>I\\'m already familiar with repeating tasks every n seconds by using Java.util.Timer and Java.util.TimerTask. But lets say I want to print \"Hello World\" to the console every random seconds from 1-5. Unfortunately I\\'m in a bit of a rush and don\\'t have any code to show so far. Any help would be apriciated.  </p>\\n'"
            ],
            "application/vnd.google.colaboratory.intrinsic+json": {
              "type": "string"
            }
          },
          "metadata": {},
          "execution_count": 11
        }
      ],
      "source": [
        "data.Body[0]"
      ]
    },
    {
      "cell_type": "code",
      "execution_count": 12,
      "metadata": {
        "colab": {
          "base_uri": "https://localhost:8080/"
        },
        "id": "nbCP3VqPeHzS",
        "outputId": "fc0815e3-7df8-4f5f-bb0c-7bcd8cd78d28"
      },
      "outputs": [
        {
          "output_type": "execute_result",
          "data": {
            "text/plain": [
              "106"
            ]
          },
          "metadata": {},
          "execution_count": 12
        }
      ],
      "source": [
        "len(data[data['Y']=='HQ']['body_scraped'].to_list()[0])"
      ]
    },
    {
      "cell_type": "code",
      "execution_count": 13,
      "metadata": {
        "id": "g2ie40_IgRrJ"
      },
      "outputs": [],
      "source": [
        "list_HQ = data[data['Y']=='HQ']['body_scraped'].to_list()\n",
        "list_LQ_EDIT = data[data['Y']=='LQ_EDIT']['body_scraped'].to_list()\n",
        "list_LQ_CLOSE = data[data['Y']=='LQ_CLOSE']['body_scraped'].to_list()"
      ]
    },
    {
      "cell_type": "code",
      "execution_count": 14,
      "metadata": {
        "id": "DKAtzBrWezgQ"
      },
      "outputs": [],
      "source": [
        "len_list_HQ = []\n",
        "len_list_LQ_EDIT = []\n",
        "len_list_LQ_CLOSE = []\n",
        "\n",
        "for i in list_HQ:\n",
        "  len_list_HQ.append(len(i))\n",
        "\n",
        "for i in list_LQ_EDIT:\n",
        "  len_list_LQ_EDIT.append(len(i))\n",
        "\n",
        "for i in list_LQ_CLOSE:\n",
        "  len_list_LQ_CLOSE.append(len(i))"
      ]
    },
    {
      "cell_type": "code",
      "execution_count": 15,
      "metadata": {
        "colab": {
          "base_uri": "https://localhost:8080/"
        },
        "id": "XAiXxwcdhg0h",
        "outputId": "b9701c08-14e0-4b21-c97f-8028a67cdb6c"
      },
      "outputs": [
        {
          "output_type": "execute_result",
          "data": {
            "text/plain": [
              "count    20000.000000\n",
              "mean       976.994250\n",
              "std       1340.827199\n",
              "min         31.000000\n",
              "25%        364.000000\n",
              "50%        628.000000\n",
              "75%       1115.000000\n",
              "max      29114.000000\n",
              "dtype: float64"
            ]
          },
          "metadata": {},
          "execution_count": 15
        }
      ],
      "source": [
        "pd.Series(len_list_HQ).describe()"
      ]
    },
    {
      "cell_type": "markdown",
      "metadata": {
        "id": "VkBwVZwNh7-d"
      },
      "source": [
        "We can see that for HQ questions, the mean length for the body of the question is 976.994250 words \n",
        "\n"
      ]
    },
    {
      "cell_type": "code",
      "execution_count": 16,
      "metadata": {
        "colab": {
          "base_uri": "https://localhost:8080/"
        },
        "id": "IuGNx_dgjhxW",
        "outputId": "648567fe-2af5-48aa-ba36-d447427ab4c1"
      },
      "outputs": [
        {
          "output_type": "execute_result",
          "data": {
            "text/plain": [
              "count    20000.000000\n",
              "mean       935.106950\n",
              "std       1527.821578\n",
              "min          9.000000\n",
              "25%        291.000000\n",
              "50%        521.000000\n",
              "75%        969.000000\n",
              "max      29363.000000\n",
              "dtype: float64"
            ]
          },
          "metadata": {},
          "execution_count": 16
        }
      ],
      "source": [
        "pd.Series(len_list_LQ_EDIT).describe()"
      ]
    },
    {
      "cell_type": "code",
      "execution_count": 17,
      "metadata": {
        "colab": {
          "base_uri": "https://localhost:8080/"
        },
        "id": "OTnlb09Rjm37",
        "outputId": "04a06b9c-4aa1-4d04-ba52-17fdcbff9446"
      },
      "outputs": [
        {
          "output_type": "execute_result",
          "data": {
            "text/plain": [
              "count    20000.000000\n",
              "mean       707.431400\n",
              "std       1324.570587\n",
              "min         37.000000\n",
              "25%        224.000000\n",
              "50%        390.000000\n",
              "75%        710.000000\n",
              "max      28853.000000\n",
              "dtype: float64"
            ]
          },
          "metadata": {},
          "execution_count": 17
        }
      ],
      "source": [
        "pd.Series(len_list_LQ_CLOSE).describe()"
      ]
    },
    {
      "cell_type": "code",
      "execution_count": 18,
      "metadata": {
        "colab": {
          "base_uri": "https://localhost:8080/",
          "height": 877
        },
        "id": "cMDvyY89gtJl",
        "outputId": "42db23a2-238c-4d57-fbdc-be0481b9dc06"
      },
      "outputs": [
        {
          "output_type": "execute_result",
          "data": {
            "text/plain": [
              "(array([4.019e+03, 5.729e+03, 3.584e+03, 2.155e+03, 1.329e+03, 8.680e+02,\n",
              "        5.460e+02, 3.920e+02, 2.770e+02, 2.260e+02, 1.540e+02, 1.220e+02,\n",
              "        8.900e+01, 6.000e+01, 6.700e+01, 5.700e+01, 3.200e+01, 4.200e+01,\n",
              "        2.900e+01, 1.900e+01, 1.400e+01, 1.600e+01, 1.400e+01, 1.100e+01,\n",
              "        1.000e+01, 1.200e+01, 7.000e+00, 8.000e+00, 7.000e+00, 8.000e+00,\n",
              "        7.000e+00, 4.000e+00, 6.000e+00, 3.000e+00, 1.000e+00, 5.000e+00,\n",
              "        5.000e+00, 2.000e+00, 9.000e+00, 2.000e+00, 3.000e+00, 2.000e+00,\n",
              "        1.000e+00, 4.000e+00, 1.000e+00, 5.000e+00, 5.000e+00, 3.000e+00,\n",
              "        1.000e+00, 1.000e+00, 3.000e+00, 0.000e+00, 0.000e+00, 0.000e+00,\n",
              "        2.000e+00, 0.000e+00, 0.000e+00, 0.000e+00, 0.000e+00, 3.000e+00,\n",
              "        0.000e+00, 0.000e+00, 0.000e+00, 1.000e+00, 0.000e+00, 3.000e+00,\n",
              "        3.000e+00, 1.000e+00, 1.000e+00, 0.000e+00, 0.000e+00, 0.000e+00,\n",
              "        0.000e+00, 0.000e+00, 0.000e+00, 0.000e+00, 0.000e+00, 0.000e+00,\n",
              "        1.000e+00, 1.000e+00, 0.000e+00, 0.000e+00, 0.000e+00, 0.000e+00,\n",
              "        0.000e+00, 0.000e+00, 2.000e+00, 1.000e+00, 1.000e+00, 0.000e+00,\n",
              "        1.000e+00, 0.000e+00, 0.000e+00, 1.000e+00, 1.000e+00, 0.000e+00,\n",
              "        0.000e+00, 0.000e+00, 0.000e+00, 1.000e+00]),\n",
              " array([   31.  ,   321.83,   612.66,   903.49,  1194.32,  1485.15,\n",
              "         1775.98,  2066.81,  2357.64,  2648.47,  2939.3 ,  3230.13,\n",
              "         3520.96,  3811.79,  4102.62,  4393.45,  4684.28,  4975.11,\n",
              "         5265.94,  5556.77,  5847.6 ,  6138.43,  6429.26,  6720.09,\n",
              "         7010.92,  7301.75,  7592.58,  7883.41,  8174.24,  8465.07,\n",
              "         8755.9 ,  9046.73,  9337.56,  9628.39,  9919.22, 10210.05,\n",
              "        10500.88, 10791.71, 11082.54, 11373.37, 11664.2 , 11955.03,\n",
              "        12245.86, 12536.69, 12827.52, 13118.35, 13409.18, 13700.01,\n",
              "        13990.84, 14281.67, 14572.5 , 14863.33, 15154.16, 15444.99,\n",
              "        15735.82, 16026.65, 16317.48, 16608.31, 16899.14, 17189.97,\n",
              "        17480.8 , 17771.63, 18062.46, 18353.29, 18644.12, 18934.95,\n",
              "        19225.78, 19516.61, 19807.44, 20098.27, 20389.1 , 20679.93,\n",
              "        20970.76, 21261.59, 21552.42, 21843.25, 22134.08, 22424.91,\n",
              "        22715.74, 23006.57, 23297.4 , 23588.23, 23879.06, 24169.89,\n",
              "        24460.72, 24751.55, 25042.38, 25333.21, 25624.04, 25914.87,\n",
              "        26205.7 , 26496.53, 26787.36, 27078.19, 27369.02, 27659.85,\n",
              "        27950.68, 28241.51, 28532.34, 28823.17, 29114.  ]),\n",
              " <a list of 100 Patch objects>)"
            ]
          },
          "metadata": {},
          "execution_count": 18
        },
        {
          "output_type": "display_data",
          "data": {
            "text/plain": [
              "<Figure size 432x288 with 1 Axes>"
            ],
            "image/png": "[encoded data removed]"
          },
          "metadata": {
            "needs_background": "light"
          }
        }
      ],
      "source": [
        "plt.hist(len_list_HQ, bins=100)"
      ]
    },
    {
      "cell_type": "code",
      "execution_count": 19,
      "metadata": {
        "colab": {
          "base_uri": "https://localhost:8080/",
          "height": 295
        },
        "id": "AjDesPvukH4k",
        "outputId": "f9926554-1cdc-4483-ebd0-d05ba84bd86f"
      },
      "outputs": [
        {
          "output_type": "display_data",
          "data": {
            "text/plain": [
              "<Figure size 432x288 with 1 Axes>"
            ],
            "image/png": "[encoded data removed]"
          },
          "metadata": {
            "needs_background": "light"
          }
        }
      ],
      "source": [
        "from matplotlib import pyplot\n",
        "import numpy\n",
        "\n",
        "bins = numpy.linspace(0, 2000, 100)\n",
        "\n",
        "pyplot.hist(len_list_HQ, bins, alpha=0.5, label='HQ')\n",
        "pyplot.hist(len_list_LQ_EDIT, bins, alpha=0.5, label='LQ_EDIT')\n",
        "pyplot.hist(len_list_LQ_CLOSE, bins, alpha=0.5, label='LQ_CLOSE')\n",
        "\n",
        "pyplot.title(\"Distribution of body length\")\n",
        "pyplot.xlabel(\"Body length\")\n",
        "pyplot.ylabel(\"Frequency\")\n",
        "pyplot.legend(loc='upper right')\n",
        "pyplot.show()"
      ]
    },
    {
      "cell_type": "markdown",
      "metadata": {
        "id": "yZXd9ShrmPr6"
      },
      "source": [
        "So, looking at the length distribution, it looks like the most of the data is within 1000 words \n",
        "\n",
        "So my first try will be cutting the body at 1000 words limit "
      ]
    },
    {
      "cell_type": "code",
      "execution_count": 20,
      "metadata": {
        "colab": {
          "base_uri": "https://localhost:8080/"
        },
        "id": "vZrtD_jmnLHF",
        "outputId": "a3e91b2b-acba-407c-d635-ca92e1545b98"
      },
      "outputs": [
        {
          "output_type": "stream",
          "name": "stdout",
          "text": [
            "The size of train: 48000 samples\n",
            "The size of val: 6000 samples\n",
            "The size of test: 6000 samples\n"
          ]
        }
      ],
      "source": [
        "train, test = train_test_split(data, test_size=0.2, random_state=42)\n",
        "val, test = train_test_split(test, test_size=0.5, random_state=42)\n",
        "\n",
        "print(f'The size of train: {len(train)} samples')\n",
        "print(f'The size of val: {len(val)} samples')\n",
        "print(f'The size of test: {len(test)} samples')"
      ]
    },
    {
      "cell_type": "code",
      "execution_count": 21,
      "metadata": {
        "colab": {
          "base_uri": "https://localhost:8080/"
        },
        "id": "7lJw7C_UqweV",
        "outputId": "e43839b8-558c-445b-ed14-dcfda913b04c"
      },
      "outputs": [
        {
          "output_type": "execute_result",
          "data": {
            "text/plain": [
              "array(['LQ_CLOSE', 'HQ', 'HQ', ..., 'LQ_EDIT', 'LQ_CLOSE', 'LQ_CLOSE'],\n",
              "      dtype=object)"
            ]
          },
          "metadata": {},
          "execution_count": 21
        }
      ],
      "source": [
        "data['Y'].values"
      ]
    },
    {
      "cell_type": "code",
      "execution_count": 23,
      "metadata": {
        "id": "akx72idHqnRy"
      },
      "outputs": [],
      "source": [
        "from sklearn.preprocessing import LabelEncoder\n",
        "\n",
        "encoder = LabelEncoder()\n",
        "\n",
        "encoder.fit(data['Y'].values) \n",
        "\n",
        "train_y = encoder.transform(train['Y'].values)\n",
        "val_y = encoder.transform(val['Y'].values)\n",
        "test_y = encoder.transform(test['Y'].values)\n",
        "\n",
        "train_X = train['body_scraped'].values\n",
        "val_X = val['body_scraped'].values\n",
        "test_X = test['body_scraped'].values\n",
        "\n",
        "train_y = np_utils.to_categorical(train_y)\n",
        "val_y = np_utils.to_categorical(val_y)\n",
        "test_y = np_utils.to_categorical(test_y)"
      ]
    },
    {
      "cell_type": "code",
      "execution_count": 24,
      "metadata": {
        "id": "vtr5xA92sDYy"
      },
      "outputs": [],
      "source": [
        "import tensorflow as tf\n",
        "import numpy as np\n",
        "from tensorflow.keras.preprocessing.text import Tokenizer\n",
        "\n",
        "tokens = Tokenizer(num_words=100000, oov_token='') # i feel like vocab size of 100,000 is probably enough \n",
        "tokens.fit_on_texts(list(train_X))"
      ]
    },
    {
      "cell_type": "code",
      "execution_count": 25,
      "metadata": {
        "id": "43juwKXwtvoU"
      },
      "outputs": [],
      "source": [
        "train_X = tokens.texts_to_sequences(train_X)\n",
        "val_X = tokens.texts_to_sequences(val_X)\n",
        "test_X = tokens.texts_to_sequences(test_X)"
      ]
    },
    {
      "cell_type": "code",
      "execution_count": 26,
      "metadata": {
        "id": "z9wWgjg5uedj"
      },
      "outputs": [],
      "source": [
        "# I decided to cap the length of the body to be 1000 based on histogram distribution, but can change this to either higher or lower \n",
        "train_X = preprocessing.sequence.pad_sequences(train_X, maxlen=1000, padding='post', truncating='post')\n",
        "val_X = preprocessing.sequence.pad_sequences(val_X, maxlen=1000, padding='post', truncating='post')\n",
        "test_X = preprocessing.sequence.pad_sequences(test_X, maxlen=1000, padding='post', truncating='post')"
      ]
    },
    {
      "cell_type": "code",
      "execution_count": 27,
      "metadata": {
        "colab": {
          "base_uri": "https://localhost:8080/"
        },
        "id": "PbtE0jSouudM",
        "outputId": "9210ef07-8005-4a60-c144-87f25a994425"
      },
      "outputs": [
        {
          "output_type": "execute_result",
          "data": {
            "text/plain": [
              "(48000, 1000)"
            ]
          },
          "metadata": {},
          "execution_count": 27
        }
      ],
      "source": [
        "train_X.shape"
      ]
    },
    {
      "cell_type": "code",
      "source": [
        "train_X"
      ],
      "metadata": {
        "colab": {
          "base_uri": "https://localhost:8080/"
        },
        "id": "qc4dQ0fJ2O4j",
        "outputId": "d84a1a55-e265-4cec-ee97-6d4983ec6819"
      },
      "execution_count": 28,
      "outputs": [
        {
          "output_type": "execute_result",
          "data": {
            "text/plain": [
              "array([[  30,    4,  159, ...,    0,    0,    0],\n",
              "       [  12,   19,   34, ...,    0,    0,    0],\n",
              "       [  61,  552,   15, ...,    0,    0,    0],\n",
              "       ...,\n",
              "       [3920,  106,    5, ...,    0,    0,    0],\n",
              "       [  61,    8,    3, ...,    0,    0,    0],\n",
              "       [ 432, 2106,   18, ...,    0,    0,    0]], dtype=int32)"
            ]
          },
          "metadata": {},
          "execution_count": 28
        }
      ]
    },
    {
      "cell_type": "code",
      "execution_count": null,
      "metadata": {
        "colab": {
          "base_uri": "https://localhost:8080/"
        },
        "id": "Am75NhBdveP-",
        "outputId": "a4480db1-6fc8-40d7-8e07-be4e40173ca8"
      },
      "outputs": [
        {
          "name": "stdout",
          "output_type": "stream",
          "text": [
            "Model: \"model_1\"\n",
            "_________________________________________________________________\n",
            " Layer (type)                Output Shape              Param #   \n",
            "=================================================================\n",
            " input_2 (InputLayer)        [(None, None)]            0         \n",
            "                                                                 \n",
            " embedding_1 (Embedding)     (None, None, 128)         12800000  \n",
            "                                                                 \n",
            " bidirectional_2 (Bidirectio  (None, None, 128)        98816     \n",
            " nal)                                                            \n",
            "                                                                 \n",
            " dropout (Dropout)           (None, None, 128)         0         \n",
            "                                                                 \n",
            " batch_normalization (BatchN  (None, None, 128)        512       \n",
            " ormalization)                                                   \n",
            "                                                                 \n",
            " bidirectional_3 (Bidirectio  (None, 128)              98816     \n",
            " nal)                                                            \n",
            "                                                                 \n",
            " dropout_1 (Dropout)         (None, 128)               0         \n",
            "                                                                 \n",
            " batch_normalization_1 (Batc  (None, 128)              512       \n",
            " hNormalization)                                                 \n",
            "                                                                 \n",
            " flatten (Flatten)           (None, 128)               0         \n",
            "                                                                 \n",
            " dense_1 (Dense)             (None, 64)                8256      \n",
            "                                                                 \n",
            " dropout_2 (Dropout)         (None, 64)                0         \n",
            "                                                                 \n",
            " batch_normalization_2 (Batc  (None, 64)               256       \n",
            " hNormalization)                                                 \n",
            "                                                                 \n",
            " dense_2 (Dense)             (None, 3)                 195       \n",
            "                                                                 \n",
            "=================================================================\n",
            "Total params: 13,007,363\n",
            "Trainable params: 13,006,723\n",
            "Non-trainable params: 640\n",
            "_________________________________________________________________\n"
          ]
        },
        {
          "name": "stderr",
          "output_type": "stream",
          "text": [
            "/usr/local/lib/python3.8/dist-packages/keras/optimizers/optimizer_v2/adam.py:110: UserWarning: The `lr` argument is deprecated, use `learning_rate` instead.\n",
            "  super(Adam, self).__init__(name, **kwargs)\n"
          ]
        }
      ],
      "source": [
        "from keras.layers import Dense, Convolution1D, MaxPool1D, Flatten, Dropout, Embedding, Input, LSTM, Bidirectional, GlobalAveragePooling1D, BatchNormalization\n",
        "from keras.models import Model\n",
        "from tensorflow import keras\n",
        "from tensorflow.keras import regularizers\n",
        "\n",
        "\n",
        "inputs = Input(shape=(None,), dtype=\"int32\")\n",
        "\n",
        "# input embedding layer \n",
        "x = Embedding(100000, 128)(inputs)\n",
        "\n",
        "# 1st bi-LSTM layer\n",
        "x = Bidirectional(LSTM(64, return_sequences=True, kernel_regularizer=regularizers.l2(l=0.001)))(x)\n",
        "# dropout and batch-normalization\n",
        "x = Dropout(0.2)(x)\n",
        "x = BatchNormalization()(x)\n",
        "\n",
        "# 2nd bi-LSTM layer\n",
        "x = Bidirectional(LSTM(64, kernel_regularizer=regularizers.l2(l=0.001)))(x)\n",
        "# dropout and batch-normalization\n",
        "x = Dropout(0.2)(x)\n",
        "x = BatchNormalization()(x)\n",
        "\n",
        "flatten = Flatten()(x)\n",
        "\n",
        "dense_end = Dense(64, activation=tf.keras.layers.LeakyReLU(alpha=0.3), kernel_initializer='he_normal', kernel_regularizer=regularizers.l2(0.001), bias_regularizer=regularizers.l2(0.001))(flatten)\n",
        "drop_end = Dropout(0.2)(dense_end)\n",
        "batch_normalization_end = BatchNormalization()(drop_end)\n",
        "\n",
        "outputs = Dense(3, activation=\"softmax\")(batch_normalization_end)\n",
        "\n",
        "model = Model(inputs, outputs)\n",
        "\n",
        "model.compile(loss='categorical_crossentropy', \n",
        "              optimizer=tf.keras.optimizers.Adam(lr=1e-4), \n",
        "              metrics=['accuracy'],)\n",
        "\n",
        "model.summary()\n"
      ]
    },
    {
      "cell_type": "code",
      "execution_count": null,
      "metadata": {
        "colab": {
          "background_save": true,
          "base_uri": "https://localhost:8080/"
        },
        "id": "ly1kWX0qwREt",
        "outputId": "d1c9ef4e-216b-4603-ec92-b61c0b26717b"
      },
      "outputs": [
        {
          "name": "stdout",
          "output_type": "stream",
          "text": [
            "Epoch 1/50\n",
            "1500/1500 [==============================] - ETA: 0s - loss: 1.3791 - accuracy: 0.7023\n",
            "Epoch 1: val_loss improved from inf to 0.95749, saving model to lstm.h5\n",
            "1500/1500 [==============================] - 211s 137ms/step - loss: 1.3791 - accuracy: 0.7023 - val_loss: 0.9575 - val_accuracy: 0.8448 - lr: 1.0000e-04\n",
            "Epoch 2/50\n",
            "1500/1500 [==============================] - ETA: 0s - loss: 0.8911 - accuracy: 0.8548\n",
            "Epoch 2: val_loss improved from 0.95749 to 0.80166, saving model to lstm.h5\n",
            "1500/1500 [==============================] - 222s 148ms/step - loss: 0.8911 - accuracy: 0.8548 - val_loss: 0.8017 - val_accuracy: 0.8663 - lr: 1.0000e-04\n",
            "Epoch 3/50\n",
            "1500/1500 [==============================] - ETA: 0s - loss: 0.7045 - accuracy: 0.8900\n",
            "Epoch 3: val_loss improved from 0.80166 to 0.71798, saving model to lstm.h5\n",
            "1500/1500 [==============================] - 213s 142ms/step - loss: 0.7045 - accuracy: 0.8900 - val_loss: 0.7180 - val_accuracy: 0.8630 - lr: 1.0000e-04\n",
            "Epoch 4/50\n",
            "1500/1500 [==============================] - ETA: 0s - loss: 0.5795 - accuracy: 0.9118\n",
            "Epoch 4: val_loss improved from 0.71798 to 0.68212, saving model to lstm.h5\n",
            "1500/1500 [==============================] - 207s 138ms/step - loss: 0.5795 - accuracy: 0.9118 - val_loss: 0.6821 - val_accuracy: 0.8600 - lr: 1.0000e-04\n",
            "Epoch 5/50\n",
            "1500/1500 [==============================] - ETA: 0s - loss: 0.4902 - accuracy: 0.9250\n",
            "Epoch 5: val_loss did not improve from 0.68212\n",
            "1500/1500 [==============================] - 206s 138ms/step - loss: 0.4902 - accuracy: 0.9250 - val_loss: 0.6935 - val_accuracy: 0.8510 - lr: 1.0000e-04\n",
            "Epoch 6/50\n",
            "1500/1500 [==============================] - ETA: 0s - loss: 0.4148 - accuracy: 0.9394\n",
            "Epoch 6: val_loss improved from 0.68212 to 0.67773, saving model to lstm.h5\n",
            "1500/1500 [==============================] - 208s 138ms/step - loss: 0.4148 - accuracy: 0.9394 - val_loss: 0.6777 - val_accuracy: 0.8503 - lr: 1.0000e-04\n",
            "Epoch 7/50\n",
            "1500/1500 [==============================] - ETA: 0s - loss: 0.3501 - accuracy: 0.9522\n",
            "Epoch 7: val_loss improved from 0.67773 to 0.67300, saving model to lstm.h5\n",
            "1500/1500 [==============================] - 209s 140ms/step - loss: 0.3501 - accuracy: 0.9522 - val_loss: 0.6730 - val_accuracy: 0.8498 - lr: 1.0000e-04\n",
            "Epoch 8/50\n",
            "1500/1500 [==============================] - ETA: 0s - loss: 0.3033 - accuracy: 0.9600\n",
            "Epoch 8: val_loss did not improve from 0.67300\n",
            "1500/1500 [==============================] - 208s 139ms/step - loss: 0.3033 - accuracy: 0.9600 - val_loss: 0.6976 - val_accuracy: 0.8427 - lr: 1.0000e-04\n",
            "Epoch 9/50\n",
            "1500/1500 [==============================] - ETA: 0s - loss: 0.2612 - accuracy: 0.9680\n",
            "Epoch 9: val_loss did not improve from 0.67300\n",
            "1500/1500 [==============================] - 212s 142ms/step - loss: 0.2612 - accuracy: 0.9680 - val_loss: 0.7706 - val_accuracy: 0.8403 - lr: 1.0000e-04\n",
            "Epoch 10/50\n",
            "1500/1500 [==============================] - ETA: 0s - loss: 0.2313 - accuracy: 0.9725\n",
            "Epoch 10: val_loss did not improve from 0.67300\n",
            "\n",
            "Epoch 10: ReduceLROnPlateau reducing learning rate to 4.999999873689376e-05.\n",
            "1500/1500 [==============================] - 217s 145ms/step - loss: 0.2313 - accuracy: 0.9725 - val_loss: 0.8086 - val_accuracy: 0.8432 - lr: 1.0000e-04\n",
            "Epoch 11/50\n",
            "1500/1500 [==============================] - ETA: 0s - loss: 0.1859 - accuracy: 0.9848\n",
            "Epoch 11: val_loss did not improve from 0.67300\n",
            "1500/1500 [==============================] - 218s 145ms/step - loss: 0.1859 - accuracy: 0.9848 - val_loss: 0.8774 - val_accuracy: 0.8427 - lr: 5.0000e-05\n",
            "Epoch 12/50\n",
            "1500/1500 [==============================] - ETA: 0s - loss: 0.1652 - accuracy: 0.9893\n",
            "Epoch 12: val_loss did not improve from 0.67300\n",
            "1500/1500 [==============================] - 216s 144ms/step - loss: 0.1652 - accuracy: 0.9893 - val_loss: 0.9516 - val_accuracy: 0.8367 - lr: 5.0000e-05\n",
            "Epoch 13/50\n",
            "1500/1500 [==============================] - ETA: 0s - loss: 0.1512 - accuracy: 0.9913\n",
            "Epoch 13: val_loss did not improve from 0.67300\n",
            "\n",
            "Epoch 13: ReduceLROnPlateau reducing learning rate to 2.499999936844688e-05.\n",
            "1500/1500 [==============================] - 215s 144ms/step - loss: 0.1512 - accuracy: 0.9913 - val_loss: 1.0132 - val_accuracy: 0.8317 - lr: 5.0000e-05\n",
            "Epoch 14/50\n",
            "1500/1500 [==============================] - ETA: 0s - loss: 0.1347 - accuracy: 0.9952\n",
            "Epoch 14: val_loss did not improve from 0.67300\n",
            "1500/1500 [==============================] - 216s 144ms/step - loss: 0.1347 - accuracy: 0.9952 - val_loss: 1.0410 - val_accuracy: 0.8382 - lr: 2.5000e-05\n",
            "Epoch 15/50\n",
            "1500/1500 [==============================] - ETA: 0s - loss: 0.1273 - accuracy: 0.9959\n",
            "Epoch 15: val_loss did not improve from 0.67300\n",
            "1500/1500 [==============================] - 215s 143ms/step - loss: 0.1273 - accuracy: 0.9959 - val_loss: 1.1137 - val_accuracy: 0.8282 - lr: 2.5000e-05\n",
            "Epoch 16/50\n",
            "1500/1500 [==============================] - ETA: 0s - loss: 0.1202 - accuracy: 0.9965\n",
            "Epoch 16: val_loss did not improve from 0.67300\n",
            "\n",
            "Epoch 16: ReduceLROnPlateau reducing learning rate to 1.249999968422344e-05.\n",
            "1500/1500 [==============================] - 212s 141ms/step - loss: 0.1202 - accuracy: 0.9965 - val_loss: 1.1610 - val_accuracy: 0.8370 - lr: 2.5000e-05\n",
            "Epoch 17/50\n",
            "1500/1500 [==============================] - ETA: 0s - loss: 0.1140 - accuracy: 0.9976\n",
            "Epoch 17: val_loss did not improve from 0.67300\n",
            "1500/1500 [==============================] - 213s 142ms/step - loss: 0.1140 - accuracy: 0.9976 - val_loss: 1.1859 - val_accuracy: 0.8357 - lr: 1.2500e-05\n",
            "Epoch 17: early stopping\n"
          ]
        }
      ],
      "source": [
        "my_callbacks = [tf.keras.callbacks.ModelCheckpoint('lstm.h5', monitor='val_loss', save_best_only=True, verbose=2),\n",
        "                tf.keras.callbacks.EarlyStopping(monitor='val_loss',  patience=10, verbose=2),\n",
        "                tf.keras.callbacks.ReduceLROnPlateau(monitor='val_loss', factor=0.5, patience=3, verbose=2)]\n",
        "\n",
        "lstm = model.fit(train_X, \n",
        "                train_y, \n",
        "                batch_size=32, \n",
        "                epochs=50, \n",
        "                validation_data=(val_X, val_y),\n",
        "                callbacks = my_callbacks, \n",
        "                verbose=1)"
      ]
    },
    {
      "cell_type": "code",
      "source": [
        "loss, accuracy = model.evaluate(test_X, test_y)"
      ],
      "metadata": {
        "colab": {
          "base_uri": "https://localhost:8080/"
        },
        "id": "HcB0tTAqIDZ7",
        "outputId": "dcbd9759-dd83-40a4-87f1-2b3c5416d69d"
      },
      "execution_count": 32,
      "outputs": [
        {
          "output_type": "stream",
          "name": "stdout",
          "text": [
            "188/188 [==============================] - 13s 67ms/step - loss: 1.2060 - accuracy: 0.8313\n"
          ]
        }
      ]
    },
    {
      "cell_type": "code",
      "source": [
        "pred_y = model.predict(test_X)"
      ],
      "metadata": {
        "colab": {
          "base_uri": "https://localhost:8080/"
        },
        "id": "o_8i1ioqIQLo",
        "outputId": "8f7a0e8e-9d72-4152-f6e9-eeb28c2d58e6"
      },
      "execution_count": 35,
      "outputs": [
        {
          "output_type": "stream",
          "name": "stdout",
          "text": [
            "188/188 [==============================] - 13s 67ms/step\n"
          ]
        }
      ]
    },
    {
      "cell_type": "code",
      "source": [
        "print(classification_report(np.argmax(test_y, axis=1), np.argmax(pred_y, axis=1), target_names=list(encoder.classes_)))"
      ],
      "metadata": {
        "colab": {
          "base_uri": "https://localhost:8080/"
        },
        "id": "ziz3K0_HI_ul",
        "outputId": "1262bc25-ffb9-4326-81ba-b75ad4b850b1"
      },
      "execution_count": 37,
      "outputs": [
        {
          "output_type": "stream",
          "name": "stdout",
          "text": [
            "              precision    recall  f1-score   support\n",
            "\n",
            "          HQ       0.81      0.79      0.80      2013\n",
            "    LQ_CLOSE       0.75      0.78      0.76      1974\n",
            "     LQ_EDIT       0.94      0.93      0.93      2013\n",
            "\n",
            "    accuracy                           0.83      6000\n",
            "   macro avg       0.83      0.83      0.83      6000\n",
            "weighted avg       0.83      0.83      0.83      6000\n",
            "\n"
          ]
        }
      ]
    }
  ],
  "metadata": {
    "accelerator": "GPU",
    "colab": {
      "provenance": []
    },
    "gpuClass": "standard",
    "kernelspec": {
      "display_name": "Python 3",
      "name": "python3"
    },
    "language_info": {
      "name": "python"
    }
  },
  "nbformat": 4,
  "nbformat_minor": 0
}